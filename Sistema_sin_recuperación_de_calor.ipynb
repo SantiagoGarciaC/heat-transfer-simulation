{
 "cells": [
  {
   "cell_type": "markdown",
   "id": "c1bed349",
   "metadata": {},
   "source": [
    "# EJERICIO INICIAL SIN RECUPERACIÓN DE CALOR"
   ]
  },
  {
   "cell_type": "markdown",
   "id": "93ab3ece",
   "metadata": {},
   "source": [
    "## $\\color {red} {NOTA:}$ $\\color {red} { CORRER}$ $\\color {red} { TODO}$ $\\color {red} { EL}$ $\\color {red} { CÓDIGO}$ $\\color {red} { Y}$ $\\color {red} {DESPUÉS}$ $\\color {red} {OBSERVAR}$ $\\color {red} {LOS}$ $\\color {red} {RESULATOS}$"
   ]
  },
  {
   "cell_type": "markdown",
   "id": "37bcd330",
   "metadata": {},
   "source": [
    "# Importación de librerías"
   ]
  },
  {
   "cell_type": "code",
   "execution_count": 1,
   "id": "05fd244f",
   "metadata": {},
   "outputs": [
    {
     "data": {
      "text/html": [
       "<style>.container { width:100% !important; }</style>"
      ],
      "text/plain": [
       "<IPython.core.display.HTML object>"
      ]
     },
     "metadata": {},
     "output_type": "display_data"
    }
   ],
   "source": [
    "from IPython.core.display import display, HTML\n",
    "display(HTML(\"<style>.container { width:100% !important; }</style>\"))\n",
    "import sympy as sp\n",
    "import numpy as np\n",
    "import matplotlib.pyplot as plt\n",
    "import seaborn as sns\n",
    "import pandas as pd\n",
    "from IPython.display import display # Permite visualizar un widget\n",
    "import ipywidgets as ipw\n",
    "from ipywidgets import interact, widgets"
   ]
  },
  {
   "cell_type": "markdown",
   "id": "9b0ef96b",
   "metadata": {},
   "source": [
    "# Valores iniciales del problema"
   ]
  },
  {
   "cell_type": "code",
   "execution_count": 2,
   "id": "dfdf33a2",
   "metadata": {},
   "outputs": [],
   "source": [
    "deltax = 12.5 * 10**-2     #[m]\n",
    "deltay = 21.65075 * 10**-2 #[m]\n",
    "L = 10                     #[m]\n",
    "h = 150                    #[W/m^2-K]\n",
    "k = 41                     #[W/m-K]\n",
    "cp = 434                   #[J/kg/K]\n",
    "rho = 8131                 #[kg/m^3]\n",
    "a = 100                    #[cm]\n",
    "b = 2*a                    #[cm]\n",
    "alpha = 0.5                #Absortividad\n",
    "sigma = 5.67 * (10**-8)    #[W/m^2-K^4]\n",
    "tinf = (975 + 273.15)      #[°K]\n",
    "talrd = (900 + 273.15)     #[°K]\n",
    "tini = (60 + 273.15)       #[°K]    \n",
    "dif = k/(rho*cp)           #[m^2/s]\n",
    "Iteraciones = 216\n",
    "ang = 60*(np.pi/180)       #[rad]"
   ]
  },
  {
   "cell_type": "markdown",
   "id": "8678eb9c",
   "metadata": {},
   "source": [
    "# Vamos a determinar el tiempo para cumplir con todos los criterios de estabilidad\n",
    "## Primero vamos a calcular el valor de $\\tau$ que cumpla para todos los criterios de estabilidad\n",
    "## Sistema sometido a radiación y convección de los alrededores"
   ]
  },
  {
   "cell_type": "code",
   "execution_count": 3,
   "id": "4c011aa8",
   "metadata": {},
   "outputs": [],
   "source": [
    "#Nodo A\n",
    "lista_tao = []\n",
    "lista_tao.append((1/(2*(1+((h*deltax**2)/k*deltay)+((deltax**2)/(deltay**2))))))\n",
    "#Nodo B,C,D\n",
    "lista_tao.append((1/(2*(1+((h*deltax**2)/k*deltay)+((deltax**2)/(deltay**2))))))\n",
    "#Nodo E\n",
    "lista_tao.append((1/((4/3)+(((4/3)*h*deltax**2)/k*deltay)+(((8/3)*(deltax**2))/(deltay**2)))))\n",
    "#Nodo F,L,S\n",
    "lista_tao.append((1/(((deltax**2)/(deltay**2))+1)))\n",
    "#Nodo G\n",
    "lista_tao.append((1/(2+(2*(deltax**2)/(deltay**2)))))\n",
    "#Nodo K,R,Z\n",
    "lista_tao.append((1/(2+(2*(deltax**2)/(deltay**2)))))\n",
    "#Nodo AA\n",
    "#Calculamos la constante respectiva\n",
    "C = ((talrd**2)+(60**2))*(talrd+60)\n",
    "lista_tao.append((1/((2)+(((2)*h*deltax**2)/k*deltay)+(((2)*(deltax**2))/(deltay**2))+((2*C*(deltax**2)*sigma*alpha)/(deltay*k)))))\n",
    "#Nodo AB\n",
    "lista_tao.append((1/((2)+(((2)*h*deltax**2)/k*deltay)+(((2)*(deltax**2))/(deltay**2))+((2*C*(deltax**2)*sigma*alpha)/(deltay*k)))))\n",
    "#Nodo AI\n",
    "lista_tao.append((1/((4)+(((4)*h*deltax**2)/k*deltay)+((4*C*(deltax**2)*sigma*alpha)/(deltay*k)))))"
   ]
  },
  {
   "cell_type": "markdown",
   "id": "5ce1306e",
   "metadata": {},
   "source": [
    "## Sistema sin estar sometido a radiación ni convección"
   ]
  },
  {
   "cell_type": "code",
   "execution_count": 4,
   "id": "f834515d",
   "metadata": {},
   "outputs": [
    {
     "name": "stdout",
     "output_type": "stream",
     "text": [
      "0.11602573377705612\n",
      "[0.3715520801411606, 0.3715520801411606, 0.4466848402608875, 0.7500019902091561, 0.37500099510457807, 0.37500099510457807, 0.34949899143308627, 0.34949899143308627, 0.22783413175653153, 0.29261875677350035, 0.20096267509431245, 0.11602573377705612, 0.37500099510457807, 0.37500099510457807]\n"
     ]
    }
   ],
   "source": [
    "#Nodo E\n",
    "lista_tao.append(1/((4/3)+(((8*(deltax**2))/(3*deltay)))+(((4*(deltax))/(3*deltay*(np.cos(np.pi/3)))))+(((4*h*(deltax**2))/(3*k*deltay)))))\n",
    "#Nodo R\n",
    "lista_tao.append(1/((2)+(((2*(deltax**2))/(deltay**2)))+(((2*(deltax))/(deltay*(np.cos(np.pi/3)))))))\n",
    "#Nodo AI\n",
    "lista_tao.append((1/(4+(4*(deltax)/(deltay*(np.cos((np.pi)/3)))))))\n",
    "#Nodo AE\n",
    "lista_tao.append((1/(2+(2*(deltax**2)/(deltay**2)))))\n",
    "#Nodo AA\n",
    "lista_tao.append((1/(2+(2*(deltax**2)/(deltay**2)))))\n",
    "#Escogemos el valor de tao que cumpla para todos los criterios de estabilidad\n",
    "tao_ini = min(lista_tao)\n",
    "print(min(lista_tao))\n",
    "print(lista_tao)"
   ]
  },
  {
   "cell_type": "markdown",
   "id": "8985b35c",
   "metadata": {},
   "source": [
    "# Calculamos el $\\Delta$t"
   ]
  },
  {
   "cell_type": "code",
   "execution_count": 5,
   "id": "5e351d0a",
   "metadata": {},
   "outputs": [
    {
     "name": "stdout",
     "output_type": "stream",
     "text": [
      "156.03577543525137\n"
     ]
    }
   ],
   "source": [
    "delta_t = (tao_ini * (deltax**2))/dif  #[s]\n",
    "print(delta_t)"
   ]
  },
  {
   "cell_type": "markdown",
   "id": "4eeebd35",
   "metadata": {},
   "source": [
    "# Ahora vamos a escoger un valor menor a este  $\\Delta$ t calculado con el $\\tau$ inicial para efectivamente cumplir con todos los criterios de estabilidad; y también recalculamos el valor de $\\tau$ "
   ]
  },
  {
   "cell_type": "code",
   "execution_count": 6,
   "id": "0f5ffef9",
   "metadata": {},
   "outputs": [
    {
     "name": "stdout",
     "output_type": "stream",
     "text": [
      "0.11153762666293364\n"
     ]
    }
   ],
   "source": [
    "deltat = 150 #[s]\n",
    "tao = (dif*deltat)/(deltax**2)\n",
    "print(tao)"
   ]
  },
  {
   "cell_type": "markdown",
   "id": "3eb5dcac",
   "metadata": {},
   "source": [
    "# Mapa de calor\n",
    "## Parte del sistema sometida a radiación y convección\n",
    "### Ecuaciones para calcular la temperatura de cada nodo en el futuro dependiendo de las temperaturas del pasado y de la temperatura de los nodos adyacentes"
   ]
  },
  {
   "cell_type": "code",
   "execution_count": 7,
   "id": "6056c179",
   "metadata": {},
   "outputs": [
    {
     "data": {
      "application/vnd.jupyter.widget-view+json": {
       "model_id": "6c00ea4d0e034719a9652d52a738fa35",
       "version_major": 2,
       "version_minor": 0
      },
      "text/plain": [
       "interactive(children=(IntSlider(value=108, description='Iteraciones', max=216), Output()), _dom_classes=('widg…"
      ]
     },
     "metadata": {},
     "output_type": "display_data"
    },
    {
     "data": {
      "text/plain": [
       "<function __main__.function(Iteraciones)>"
      ]
     },
     "execution_count": 7,
     "metadata": {},
     "output_type": "execute_result"
    }
   ],
   "source": [
    "def function(Iteraciones):\n",
    "    temperaturas = []\n",
    "    temp_ini = np.full((5,9),0)\n",
    "    temp_ini\n",
    "    for i in range(0,5):\n",
    "        for j in range(0,9):\n",
    "            temp_ini[i,j] = tini\n",
    "        \n",
    "    for i in range(5,9):\n",
    "        temp_ini[0,i] = 0\n",
    "    for i in range(6,9):\n",
    "        temp_ini[1,i] = 0\n",
    "    for i in range(7,9):\n",
    "        temp_ini[2,i] = 0\n",
    "    temp_ini[3,8] = 0\n",
    "    temperaturas.insert(0,temp_ini)\n",
    "\n",
    "    for m in range(0,Iteraciones):\n",
    "\n",
    "        #Avanzamos 150 segundos por iteración\n",
    "        temp_prima = np.full((5,9),0)\n",
    "        #Nodo A\n",
    "        temp_prima[0,0] = ((temperaturas[m][0,0])*(1-(2*tao)-((2*tao*h*deltax**2)/k*deltay)-((2*tao*(deltax**2))/(deltay**2)))) + ((2*tao)*(temperaturas[m][0,1]+((tinf*h*(deltax**2))/(k*deltay))+(temperaturas[m][1,0]*((deltax**2)/(deltay**2)))))\n",
    "        #Nodos B,C,D\n",
    "        for i in range(0,3):\n",
    "            temp_prima[0,(i+1)] = (temperaturas[m][0,(i+1)]*(1-(2*tao)-((2*tao*h*deltax**2)/k*deltay)-((2*tao*(deltax**2))/(deltay**2)))) + (tao*(temperaturas[m][0,i]+((2*tinf*h*(deltax**2))/(k*deltay))+(2*temperaturas[m][1,(i+1)]*((deltax**2)/(deltay**2)))+temperaturas[m][0,(i+2)]))\n",
    "        #Nodo E\n",
    "        temp_prima[0,4] = (temperaturas[m][0,4]*(1-((4/3)*tao)-(((4/3)*tao*h*deltax**2)/k)-(((8/3)*tao*(deltax**2))/(deltay**2)))) + (((4/3)*tao)*(temperaturas[m][0,3]+((tinf*h*(deltax**2))/(k))+(2*temperaturas[m][1,4]*((deltax**2)/(deltay**2)))))\n",
    "        #Nodos F,L,S\n",
    "        for i in range(0,3):\n",
    "            temp_prima[(i+1),0] = (temperaturas[m][(i+1),0]*(1-tao-((tao*(deltax**2))/(deltay**2)))) + (tao*(temperaturas[m][(i+1),1]+(temperaturas[m][i,0]*((deltax**2)/(2*(deltay**2))))+(temperaturas[m][(i+2),0]*((deltax**2)/(2*(deltay**2))))))\n",
    "        #Nodos G,H,I,J\n",
    "        for i in range(0,4):\n",
    "            temp_prima[1,(i+1)] = (temperaturas[m][1,(i+1)]*(1-(2*tao)-((2*tao*(deltax**2))/(deltay**2)))) + (tao*(temperaturas[m][1,i] + temperaturas[m][1,(i+2)]+((temperaturas[m][0,(i+1)]+temperaturas[m][2,(i+1)])*((deltax**2)/(deltay**2)))))\n",
    "        #Nodos M,N,O,P,Q\n",
    "        for i in range(0,5):\n",
    "            temp_prima[2,(i+1)] = (temperaturas[m][2,(i+1)]*(1-(2*tao)-((2*tao*(deltax**2))/(deltay**2)))) + (tao*(temperaturas[m][2,i] + temperaturas[m][2,(i+2)]+((temperaturas[m][1,(i+1)]+temperaturas[m][3,(i+1)])*((deltax**2)/(deltay**2)))))\n",
    "        #Nodos T,U,V,W,X,Y\n",
    "        for i in range(0,6):\n",
    "            temp_prima[3,(i+1)] = (temperaturas[m][3,(i+1)]*(1-(2*tao)-((2*tao*(deltax**2))/(deltay**2)))) + (tao*(temperaturas[m][3,i] + temperaturas[m][3,(i+2)]+((temperaturas[m][2,(i+1)]+temperaturas[m][4,(i+1)])*((deltax**2)/(deltay**2)))))\n",
    "        #Nodo K\n",
    "        temp_prima[1,5] = (temperaturas[m][1,5]*(1-(2*tao)-((2*tao*(deltax**2))/(deltay**2)))) + ((2*tao)*(temperaturas[m][1,4]+(temperaturas[m][2,5]*((deltax**2)/(deltay**2)))))\n",
    "        #Nodo R\n",
    "        temp_prima[2,6] = (temperaturas[m][2,6]*(1-(2*tao)-((2*tao*(deltax**2))/(deltay**2)))) + ((2*tao)*(temperaturas[m][2,5]+(temperaturas[m][3,6]*((deltax**2)/(deltay**2)))))\n",
    "        #Nodo Z\n",
    "        temp_prima[3,7] = (temperaturas[m][3,7]*(1-(2*tao)-((2*tao*(deltax**2))/(deltay**2)))) + ((2*tao)*(temperaturas[m][3,6]+(temperaturas[m][4,7]*((deltax**2)/(deltay**2)))))\n",
    "        #Nodo AA\n",
    "        temp_prima[4,0] = (temperaturas[m][4,0]) + ((2*tao)*((((deltax**2)*(temperaturas[m][3,0]-temperaturas[m][4,0]))/(deltay**2)) + (temperaturas[m][4,1]-temperaturas[m][4,0]) + (((tinf-temperaturas[m][4,0])*h*(deltax**2))/(k*deltay)) + ((((talrd**4)-(temperaturas[m][4,0]**4))*alpha*sigma*(deltax**2))/(k*deltay))))      \n",
    "        #Nodo AB,AC,AD,AE,AF,AG,AH\n",
    "        for i in range(0,7):\n",
    "            temp_prima[4,i+1] = (temperaturas[m][4,i+1]) + (tao*((((deltax**2)*2*(temperaturas[m][3,i+1]-temperaturas[m][4,i+1]))/(deltay**2)) + (temperaturas[m][4,i]-temperaturas[m][4,i+1]) + (temperaturas[m][4,i+2]-temperaturas[m][4,i+1]) + (((tinf-temperaturas[m][4,i+1])*2*h*(deltax**2))/(k*deltay)) + ((((talrd**4)-(temperaturas[m][4,i+1]**4))*2*alpha*sigma*(deltax**2))/(k*deltay))))\n",
    "        #Nodo AI\n",
    "        temp_prima[4,8] = (temperaturas[m][4,8]) + ((4*tao)*((temperaturas[m][4,7]-temperaturas[m][4,8]) + ((tinf-temperaturas[m][4,8])*h*(deltax**2))/(k*deltay)) + ((((talrd**4)-(temperaturas[m][4,8]**4))*alpha*sigma*(deltax**2))/(k*deltay)))\n",
    "    \n",
    "        temperaturas.insert((m+1),temp_prima)\n",
    "        \n",
    "    f, ax = plt.subplots(figsize=(10, 8))\n",
    "    title = 'MAPA DE CALOR\\nPIEZA SOMETIDA A RADICIÓN Y CONVECCIÓN\\n'\n",
    "    plt.title(title, loc='left', fontsize=18)\n",
    "    ax = sns.heatmap(temperaturas[Iteraciones], linewidths=.5, vmin=300, vmax=2000, annot=True, fmt = 'd', cmap = \"YlOrBr\")\n",
    "    plt.show()\n",
    "\n",
    "interact(function,Iteraciones=(0,Iteraciones))\n"
   ]
  },
  {
   "cell_type": "markdown",
   "id": "f2ae8b26",
   "metadata": {},
   "source": [
    "# Mapa de Calor\n",
    "## Combinación de ambos sistemas; sistema sin radiación y expuesto a superficie adiabática (Parte derecha); sistema con radiación y convección (Parte izquierda); y conducción entre ambos sistemas"
   ]
  },
  {
   "cell_type": "code",
   "execution_count": 8,
   "id": "69fe3f13",
   "metadata": {},
   "outputs": [
    {
     "data": {
      "application/vnd.jupyter.widget-view+json": {
       "model_id": "2618e621969142d39883ca781f16f295",
       "version_major": 2,
       "version_minor": 0
      },
      "text/plain": [
       "interactive(children=(IntSlider(value=108, description='Iteraciones', max=216), Output()), _dom_classes=('widg…"
      ]
     },
     "metadata": {},
     "output_type": "display_data"
    },
    {
     "data": {
      "text/plain": [
       "<function __main__.func(Iteraciones)>"
      ]
     },
     "execution_count": 8,
     "metadata": {},
     "output_type": "execute_result"
    }
   ],
   "source": [
    "def func(Iteraciones):\n",
    "    temperaturas = []\n",
    "    temp_ini = np.full((5,17),0)\n",
    "    temp_ini\n",
    "    for i in range(0,5):\n",
    "        for j in range(0,17):\n",
    "            temp_ini[i,j] = tini\n",
    "        \n",
    "    for i in range(5,12):\n",
    "        temp_ini[0,i] = 0\n",
    "    for i in range(6,11):\n",
    "        temp_ini[1,i] = 0\n",
    "    for i in range(7,10):\n",
    "        temp_ini[2,i] = 0\n",
    "    for i in range(8,9):\n",
    "        temp_ini[3,i] = 0\n",
    "    temperaturas.insert(0,temp_ini)\n",
    "    ##print(temp_ini)\n",
    "\n",
    "    for m in range(0,Iteraciones):\n",
    "\n",
    "        #Avanzamos 150 segundos por iteración\n",
    "        temp_prima = np.full((5,17),0)\n",
    "        #Nodo A\n",
    "        temp_prima[0,0] = ((temperaturas[m][0,0])*(1-(2*tao)-((2*tao*h*deltax**2)/k*deltay)-((2*tao*(deltax**2))/(deltay**2)))) + ((2*tao)*(temperaturas[m][0,1]+((tinf*h*(deltax**2))/(k*deltay))+(temperaturas[m][1,0]*((deltax**2)/(deltay**2)))))\n",
    "        #Nodo A'\n",
    "        temp_prima[0,16] = ((temperaturas[m][0,16])*(1-(2*tao)-((2*tao*h*deltax**2)/k*deltay)-((2*tao*(deltax**2))/(deltay**2)))) + ((2*tao)*(temperaturas[m][0,15]+((tinf*h*(deltax**2))/(k*deltay))+(temperaturas[m][1,16]*((deltax**2)/(deltay**2)))))\n",
    "        #Nodos B,C,D\n",
    "        for i in range(0,3):\n",
    "            temp_prima[0,(i+1)] = (temperaturas[m][0,(i+1)]*(1-(2*tao)-((2*tao*h*deltax**2)/k*deltay)-((2*tao*(deltax**2))/(deltay**2)))) + (tao*(temperaturas[m][0,i]+((2*tinf*h*(deltax**2))/(k*deltay))+(2*temperaturas[m][1,(i+1)]*((deltax**2)/(deltay**2)))+temperaturas[m][0,(i+2)]))\n",
    "        #Nodos B',C',D'\n",
    "        for i in range(0,3):\n",
    "            temp_prima[0,(i+13)] = (temperaturas[m][0,(i+13)]*(1-(2*tao)-((2*tao*h*deltax**2)/k*deltay)-((2*tao*(deltax**2))/(deltay**2)))) + (tao*(temperaturas[m][0,(i+12)]+((2*tinf*h*(deltax**2))/(k*deltay))+(2*temperaturas[m][1,(i+13)]*((deltax**2)/(deltay**2)))+temperaturas[m][0,(i+14)]))\n",
    "        #Nodo E\n",
    "        temp_prima[0,4] = (temperaturas[m][0,4]*(1-((4/3)*tao)-(((8/3)*tao*deltax**2)/(deltay))-(((4/3)*tao*deltax)/(np.cos(ang)*deltay))-(((4/3)*tao*h*(deltax**2))/(k*deltay)))) + (((4/3)*tao)*(temperaturas[m][0,3]+((tinf*h*(deltax**2))/(k*deltay))+(2*temperaturas[m][1,4]*((deltax**2)/(deltay)))+((deltax*temperaturas[m][0,12])/(deltay*np.cos(ang)))))\n",
    "        #Nodo E'\n",
    "        temp_prima[0,12] = (temperaturas[m][0,12]*(1-((4/3)*tao)-(((8/3)*tao*deltax**2)/(deltay))-(((4/3)*tao*deltax)/(np.cos(ang)*deltay))-(((4/3)*tao*h*(deltax**2))/(k*deltay)))) + (((4/3)*tao)*(temperaturas[m][0,13]+((tinf*h*(deltax**2))/(k*deltay))+(2*temperaturas[m][1,12]*((deltax**2)/(deltay)))+((deltax*temperaturas[m][0,4])/(deltay*np.cos(ang)))))\n",
    "        #Nodos F,L,S\n",
    "        for i in range(0,3):\n",
    "            temp_prima[(i+1),0] = (temperaturas[m][(i+1),0]*(1-tao-((tao*(deltax**2))/(deltay**2)))) + (tao*(temperaturas[m][(i+1),1]+(temperaturas[m][i,0]*((deltax**2)/(2*(deltay**2))))+(temperaturas[m][(i+2),0]*((deltax**2)/(2*(deltay**2))))))\n",
    "        #Nodos F',L',S\n",
    "        for i in range(0,3):\n",
    "            temp_prima[(i+1),16] = (temperaturas[m][(i+1),16]*(1-tao-((tao*(deltax**2))/(deltay**2)))) + (tao*(temperaturas[m][(i+1),15]+(temperaturas[m][i,16]*((deltax**2)/(2*(deltay**2))))+(temperaturas[m][(i+2),16]*((deltax**2)/(2*(deltay**2))))))\n",
    "        #Nodos G,H,I,J\n",
    "        for i in range(0,4):\n",
    "            temp_prima[1,(i+1)] = (temperaturas[m][1,(i+1)]*(1-(2*tao)-((2*tao*(deltax**2))/(deltay**2)))) + (tao*(temperaturas[m][1,i] + temperaturas[m][1,(i+2)]+((temperaturas[m][0,(i+1)]+temperaturas[m][2,(i+1)])*((deltax**2)/(deltay**2)))))\n",
    "        #Nodos G',H',I',J'\n",
    "        for i in range(0,4):\n",
    "            temp_prima[1,(i+12)] = (temperaturas[m][1,(i+12)]*(1-(2*tao)-((2*tao*(deltax**2))/(deltay**2)))) + (tao*(temperaturas[m][1,(i+11)] + temperaturas[m][1,(i+13)]+((temperaturas[m][0,(i+12)]+temperaturas[m][2,(i+12)])*((deltax**2)/(deltay**2)))))\n",
    "        #Nodos M,N,O,P,Q\n",
    "        for i in range(0,5):\n",
    "            temp_prima[2,(i+1)] = (temperaturas[m][2,(i+1)]*(1-(2*tao)-((2*tao*(deltax**2))/(deltay**2)))) + (tao*(temperaturas[m][2,i] + temperaturas[m][2,(i+2)]+((temperaturas[m][1,(i+1)]+temperaturas[m][3,(i+1)])*((deltax**2)/(deltay**2)))))\n",
    "        #Nodos M',N',O',P',Q'\n",
    "        for i in range(0,5):\n",
    "            temp_prima[2,(i+11)] = (temperaturas[m][2,(i+11)]*(1-(2*tao)-((2*tao*(deltax**2))/(deltay**2)))) + (tao*(temperaturas[m][2,(i+10)] + temperaturas[m][2,(i+12)]+((temperaturas[m][1,(i+11)]+temperaturas[m][3,(i+11)])*((deltax**2)/(deltay**2)))))\n",
    "        #Nodos T,U,V,W,X,Y\n",
    "        for i in range(0,6):\n",
    "            temp_prima[3,(i+1)] = (temperaturas[m][3,(i+1)]*(1-(2*tao)-((2*tao*(deltax**2))/(deltay**2)))) + (tao*(temperaturas[m][3,i] + temperaturas[m][3,(i+2)]+((temperaturas[m][2,(i+1)]+temperaturas[m][4,(i+1)])*((deltax**2)/(deltay**2)))))\n",
    "        #Nodos T',U',V',W',X',Y'\n",
    "        for i in range(0,6):\n",
    "            temp_prima[3,(i+10)] = (temperaturas[m][3,(i+10)]*(1-(2*tao)-((2*tao*(deltax**2))/(deltay**2)))) + (tao*(temperaturas[m][3,(i+9)] + temperaturas[m][3,(i+11)]+((temperaturas[m][2,(i+10)]+temperaturas[m][4,(i+10)])*((deltax**2)/(deltay**2)))))\n",
    "        #Nodo K\n",
    "        temp_prima[1,5] = (temperaturas[m][1,5]*(1-(2*tao)-((2*tao*(deltax**2))/(deltay**2))-((2*tao*deltax)/(np.cos(ang)*deltay)))) + ((2*tao)*(temperaturas[m][1,4]+(temperaturas[m][2,5]*((deltax**2)/(deltay**2)))+((temperaturas[m][1,11]*deltax)/(np.cos(ang)*deltay))))\n",
    "        #Nodo K'\n",
    "        temp_prima[1,11] = (temperaturas[m][1,11]*(1-(2*tao)-((2*tao*(deltax**2))/(deltay**2))-((2*tao*deltax)/(np.cos(ang)*deltay)))) + ((2*tao)*(temperaturas[m][1,12]+(temperaturas[m][2,11]*((deltax**2)/(deltay**2)))+((temperaturas[m][1,5]*deltax)/(np.cos(ang)*deltay))))\n",
    "        #Nodo R\n",
    "        temp_prima[2,6] = (temperaturas[m][2,6]*(1-(2*tao)-((2*tao*(deltax**2))/(deltay**2))-((2*tao*deltax)/(np.cos(ang)*deltay)))) + ((2*tao)*(temperaturas[m][2,5]+(temperaturas[m][3,6]*((deltax**2)/(deltay**2)))+((temperaturas[m][2,10]*deltax)/(np.cos(ang)*deltay))))                      \n",
    "        #Nodo R'\n",
    "        temp_prima[2,10] = (temperaturas[m][2,10]*(1-(2*tao)-((2*tao*(deltax**2))/(deltay**2))-((2*tao*deltax)/(np.cos(ang)*deltay)))) + ((2*tao)*(temperaturas[m][2,11]+(temperaturas[m][3,10]*((deltax**2)/(deltay**2)))+((temperaturas[m][2,6]*deltax)/(np.cos(ang)*deltay))))\n",
    "        #Nodo Z\n",
    "        temp_prima[3,7] = (temperaturas[m][3,7]*(1-(2*tao)-((2*tao*(deltax**2))/(deltay**2))-((2*tao*deltax)/(np.cos(ang)*deltay)))) + ((2*tao)*(temperaturas[m][3,6]+(temperaturas[m][4,7]*((deltax**2)/(deltay**2)))+((temperaturas[m][3,9]*deltax)/(np.cos(ang)*deltay))))\n",
    "        #Nodo Z'\n",
    "        temp_prima[3,9] = (temperaturas[m][3,9]*(1-(2*tao)-((2*tao*(deltax**2))/(deltay**2))-((2*tao*deltax)/(np.cos(ang)*deltay)))) + ((2*tao)*(temperaturas[m][3,10]+(temperaturas[m][4,9]*((deltax**2)/(deltay**2)))+((temperaturas[m][3,7]*deltax)/(np.cos(ang)*deltay))))\n",
    "        #Nodo AA\n",
    "        temp_prima[4,0] = (temperaturas[m][4,0]) + ((2*tao)*((((deltax**2)*(temperaturas[m][3,0]-temperaturas[m][4,0]))/(deltay**2)) + (temperaturas[m][4,1]-temperaturas[m][4,0]) + (((tinf-temperaturas[m][4,0])*h*(deltax**2))/(k*deltay)) + ((((talrd**4)-(temperaturas[m][4,0]**4))*alpha*sigma*(deltax**2))/(k*deltay))))      \n",
    "        #Nodo AA'\n",
    "        temp_prima[4,16] = (temperaturas[m][4,16]*(1-(2*tao)-(2*tao*(deltax**2)/(deltay**2)))) + ((2*tao)*(((temperaturas[m][3,16]*(deltax**2))/(deltay**2))+(temperaturas[m][4,15]))) \n",
    "        #Nodo AB,AC,AD,AE,AF,AG,AH\n",
    "        for i in range(0,7):\n",
    "            temp_prima[4,i+1] = (temperaturas[m][4,i+1]) + (tao*((((deltax**2)*2*(temperaturas[m][3,i+1]-temperaturas[m][4,i+1]))/(deltay**2)) + (temperaturas[m][4,i]-temperaturas[m][4,i+1]) + (temperaturas[m][4,i+2]-temperaturas[m][4,i+1]) + (((tinf-temperaturas[m][4,i+1])*2*h*(deltax**2))/(k*deltay)) + ((((talrd**4)-(temperaturas[m][4,i+1]**4))*2*alpha*sigma*(deltax**2))/(k*deltay))))\n",
    "        #Nodos AB',AC',AD',AE',AF',AG',AH'\n",
    "        for i in range(0,7):\n",
    "            temp_prima[4,(i+9)] = (temperaturas[m][4,(i+9)]*(1-(2*tao)-(2*tao*(deltax**2)/(deltay**2)))) + ((tao)*((temperaturas[m][4,(i+10)])+((2*temperaturas[m][3,(i+9)]*deltax**2)/(deltay**2))+(temperaturas[m][4,(i+8)])))\n",
    "        ##temp_prima[4,15] = (temperaturas[m][4,15]*(1-(2*tao)-(2*tao*(deltax**2)/(deltay**2)))) + ((tao)*((temperaturas[m][4,16])+((2*temperaturas[m][3,15]*deltax**2)/(deltay**2))+(temperaturas[m][4,14])))\n",
    "        #Nodo AI\n",
    "        temp_prima[4,8] = (temperaturas[m][4,8]) + ((4*tao)*((temperaturas[m][4,7]-temperaturas[m][4,8]) + ((tinf-temperaturas[m][4,8])*h*(deltax**2))/(k*deltay)) + ((((talrd**4)-(temperaturas[m][4,8]**4))*alpha*sigma*(deltax**2))/(k*deltay))+(((temperaturas[m][4,9]-temperaturas[m][4,8])*deltax)/(2*deltay*(np.cos(ang)))))\n",
    "\n",
    "        temperaturas.insert((m+1),temp_prima)\n",
    "\n",
    "    f, ax = plt.subplots(figsize=(10, 8))\n",
    "    title = 'MAPA DE CALOR\\nPIEZA IZQUIERDA SOMETIDA A RADICIÓN Y CONVECCIÓN\\nPIEZA DERECHA SOMETIDA SOLO A CONVECCIÓN Y ABAJO PARED ADIABÁTICA \\nCONDUCCIÓN ENTRE AMABAS PIEZAS'\n",
    "    plt.title(title, loc='left', fontsize=18)\n",
    "    ax = sns.heatmap(temperaturas[Iteraciones], linewidths=.5, vmin=300, vmax=2000, annot=True, fmt = 'd', cmap = \"YlOrBr\")\n",
    "    plt.show()\n",
    "\n",
    "interact(func,Iteraciones=(0,Iteraciones))\n",
    "\n",
    "\n"
   ]
  },
  {
   "cell_type": "markdown",
   "id": "0de75326",
   "metadata": {},
   "source": [
    "#### El punto más frío está situado en la mitad de la parte inferior de la pieza, donde está en contacto con la pared adiabática, en la simulación anterior lo podemos observar en la posición (4,16)"
   ]
  },
  {
   "cell_type": "markdown",
   "id": "4f506243",
   "metadata": {},
   "source": [
    "# Calculamos la velocidad de la banda para que el punto más frío alcance 1173 K"
   ]
  },
  {
   "cell_type": "code",
   "execution_count": 13,
   "id": "d568c670",
   "metadata": {},
   "outputs": [
    {
     "name": "stdout",
     "output_type": "stream",
     "text": [
      "El tiempo que tarda el punto más frío en llegar 900°C es 32400  [s] o  9  [horas]\n",
      "La velocidad necesaria es:  0.000309  [m/s]\n"
     ]
    }
   ],
   "source": [
    "t_necesario=Iteraciones*deltat\n",
    "velocidad = L/t_necesario\n",
    "print(\"El tiempo que tarda el punto más frío en llegar 900°C es\", t_necesario, \" [s] o \", round((t_necesario/3600)), \" [horas]\")\n",
    "print(\"La velocidad necesaria es: \", round(velocidad,6), \" [m/s]\")"
   ]
  },
  {
   "cell_type": "markdown",
   "id": "c0072927",
   "metadata": {},
   "source": [
    "# Gráfica del punto más caliente y el punto más frío respecto al tiempo"
   ]
  },
  {
   "cell_type": "code",
   "execution_count": 10,
   "id": "92e32833",
   "metadata": {},
   "outputs": [
    {
     "data": {
      "text/plain": [
       "Text(0, 0.5, 'Temperatura [K]')"
      ]
     },
     "execution_count": 10,
     "metadata": {},
     "output_type": "execute_result"
    },
    {
     "data": {
      "image/png": "[encoded data removed]",
      "text/plain": [
       "<Figure size 432x288 with 1 Axes>"
      ]
     },
     "metadata": {
      "needs_background": "light"
     },
     "output_type": "display_data"
    }
   ],
   "source": [
    "temperaturas = []\n",
    "temp_ini = np.full((5,17),0)\n",
    "temp_ini\n",
    "for i in range(0,5):\n",
    "    for j in range(0,17):\n",
    "        temp_ini[i,j] = tini\n",
    "        \n",
    "for i in range(5,12):\n",
    "    temp_ini[0,i] = 0\n",
    "for i in range(6,11):\n",
    "    temp_ini[1,i] = 0\n",
    "for i in range(7,10):\n",
    "    temp_ini[2,i] = 0\n",
    "for i in range(8,9):\n",
    "    temp_ini[3,i] = 0\n",
    "temperaturas.insert(0,temp_ini)\n",
    "\n",
    "\n",
    "for m in range(0,Iteraciones):\n",
    "\n",
    "    #Avanzamos 150 segundos por iteración\n",
    "    temp_prima = np.full((5,17),0)\n",
    "    #Nodo A\n",
    "    temp_prima[0,0] = ((temperaturas[m][0,0])*(1-(2*tao)-((2*tao*h*deltax**2)/k*deltay)-((2*tao*(deltax**2))/(deltay**2)))) + ((2*tao)*(temperaturas[m][0,1]+((tinf*h*(deltax**2))/(k*deltay))+(temperaturas[m][1,0]*((deltax**2)/(deltay**2)))))\n",
    "    #Nodo A'\n",
    "    temp_prima[0,16] = ((temperaturas[m][0,16])*(1-(2*tao)-((2*tao*h*deltax**2)/k*deltay)-((2*tao*(deltax**2))/(deltay**2)))) + ((2*tao)*(temperaturas[m][0,15]+((tinf*h*(deltax**2))/(k*deltay))+(temperaturas[m][1,16]*((deltax**2)/(deltay**2)))))\n",
    "    #Nodos B,C,D\n",
    "    for i in range(0,3):\n",
    "        temp_prima[0,(i+1)] = (temperaturas[m][0,(i+1)]*(1-(2*tao)-((2*tao*h*deltax**2)/k*deltay)-((2*tao*(deltax**2))/(deltay**2)))) + (tao*(temperaturas[m][0,i]+((2*tinf*h*(deltax**2))/(k*deltay))+(2*temperaturas[m][1,(i+1)]*((deltax**2)/(deltay**2)))+temperaturas[m][0,(i+2)]))\n",
    "    #Nodos B',C',D'\n",
    "    for i in range(0,3):\n",
    "        temp_prima[0,(i+13)] = (temperaturas[m][0,(i+13)]*(1-(2*tao)-((2*tao*h*deltax**2)/k*deltay)-((2*tao*(deltax**2))/(deltay**2)))) + (tao*(temperaturas[m][0,(i+12)]+((2*tinf*h*(deltax**2))/(k*deltay))+(2*temperaturas[m][1,(i+13)]*((deltax**2)/(deltay**2)))+temperaturas[m][0,(i+14)]))\n",
    "    #Nodo E\n",
    "    temp_prima[0,4] = (temperaturas[m][0,4]*(1-((4/3)*tao)-(((8/3)*tao*deltax**2)/(deltay))-(((4/3)*tao*deltax)/(np.cos(ang)*deltay))-(((4/3)*tao*h*(deltax**2))/(k*deltay)))) + (((4/3)*tao)*(temperaturas[m][0,3]+((tinf*h*(deltax**2))/(k*deltay))+(2*temperaturas[m][1,4]*((deltax**2)/(deltay)))+((deltax*temperaturas[m][0,12])/(deltay*np.cos(ang)))))\n",
    "    #Nodo E'\n",
    "    temp_prima[0,12] = (temperaturas[m][0,12]*(1-((4/3)*tao)-(((8/3)*tao*deltax**2)/(deltay))-(((4/3)*tao*deltax)/(np.cos(ang)*deltay))-(((4/3)*tao*h*(deltax**2))/(k*deltay)))) + (((4/3)*tao)*(temperaturas[m][0,13]+((tinf*h*(deltax**2))/(k*deltay))+(2*temperaturas[m][1,12]*((deltax**2)/(deltay)))+((deltax*temperaturas[m][0,4])/(deltay*np.cos(ang)))))\n",
    "    #Nodos F,L,S\n",
    "    for i in range(0,3):\n",
    "        temp_prima[(i+1),0] = (temperaturas[m][(i+1),0]*(1-tao-((tao*(deltax**2))/(deltay**2)))) + (tao*(temperaturas[m][(i+1),1]+(temperaturas[m][i,0]*((deltax**2)/(2*(deltay**2))))+(temperaturas[m][(i+2),0]*((deltax**2)/(2*(deltay**2))))))\n",
    "    #Nodos F',L',S\n",
    "    for i in range(0,3):\n",
    "        temp_prima[(i+1),16] = (temperaturas[m][(i+1),16]*(1-tao-((tao*(deltax**2))/(deltay**2)))) + (tao*(temperaturas[m][(i+1),15]+(temperaturas[m][i,16]*((deltax**2)/(2*(deltay**2))))+(temperaturas[m][(i+2),16]*((deltax**2)/(2*(deltay**2))))))\n",
    "    #Nodos G,H,I,J\n",
    "    for i in range(0,4):\n",
    "        temp_prima[1,(i+1)] = (temperaturas[m][1,(i+1)]*(1-(2*tao)-((2*tao*(deltax**2))/(deltay**2)))) + (tao*(temperaturas[m][1,i] + temperaturas[m][1,(i+2)]+((temperaturas[m][0,(i+1)]+temperaturas[m][2,(i+1)])*((deltax**2)/(deltay**2)))))\n",
    "    #Nodos G',H',I',J'\n",
    "    for i in range(0,4):\n",
    "        temp_prima[1,(i+12)] = (temperaturas[m][1,(i+12)]*(1-(2*tao)-((2*tao*(deltax**2))/(deltay**2)))) + (tao*(temperaturas[m][1,(i+11)] + temperaturas[m][1,(i+13)]+((temperaturas[m][0,(i+12)]+temperaturas[m][2,(i+12)])*((deltax**2)/(deltay**2)))))\n",
    "    #Nodos M,N,O,P,Q\n",
    "    for i in range(0,5):\n",
    "        temp_prima[2,(i+1)] = (temperaturas[m][2,(i+1)]*(1-(2*tao)-((2*tao*(deltax**2))/(deltay**2)))) + (tao*(temperaturas[m][2,i] + temperaturas[m][2,(i+2)]+((temperaturas[m][1,(i+1)]+temperaturas[m][3,(i+1)])*((deltax**2)/(deltay**2)))))\n",
    "    #Nodos M',N',O',P',Q'\n",
    "    for i in range(0,5):\n",
    "        temp_prima[2,(i+11)] = (temperaturas[m][2,(i+11)]*(1-(2*tao)-((2*tao*(deltax**2))/(deltay**2)))) + (tao*(temperaturas[m][2,(i+10)] + temperaturas[m][2,(i+12)]+((temperaturas[m][1,(i+11)]+temperaturas[m][3,(i+11)])*((deltax**2)/(deltay**2)))))\n",
    "    #Nodos T,U,V,W,X,Y\n",
    "    for i in range(0,6):\n",
    "        temp_prima[3,(i+1)] = (temperaturas[m][3,(i+1)]*(1-(2*tao)-((2*tao*(deltax**2))/(deltay**2)))) + (tao*(temperaturas[m][3,i] + temperaturas[m][3,(i+2)]+((temperaturas[m][2,(i+1)]+temperaturas[m][4,(i+1)])*((deltax**2)/(deltay**2)))))\n",
    "    #Nodos T',U',V',W',X',Y'\n",
    "    for i in range(0,6):\n",
    "        temp_prima[3,(i+10)] = (temperaturas[m][3,(i+10)]*(1-(2*tao)-((2*tao*(deltax**2))/(deltay**2)))) + (tao*(temperaturas[m][3,(i+9)] + temperaturas[m][3,(i+11)]+((temperaturas[m][2,(i+10)]+temperaturas[m][4,(i+10)])*((deltax**2)/(deltay**2)))))\n",
    "    #Nodo K\n",
    "    temp_prima[1,5] = (temperaturas[m][1,5]*(1-(2*tao)-((2*tao*(deltax**2))/(deltay**2))-((2*tao*deltax)/(np.cos(ang)*deltay)))) + ((2*tao)*(temperaturas[m][1,4]+(temperaturas[m][2,5]*((deltax**2)/(deltay**2)))+((temperaturas[m][1,11]*deltax)/(np.cos(ang)*deltay))))\n",
    "    #Nodo K'\n",
    "    temp_prima[1,11] = (temperaturas[m][1,11]*(1-(2*tao)-((2*tao*(deltax**2))/(deltay**2))-((2*tao*deltax)/(np.cos(ang)*deltay)))) + ((2*tao)*(temperaturas[m][1,12]+(temperaturas[m][2,11]*((deltax**2)/(deltay**2)))+((temperaturas[m][1,5]*deltax)/(np.cos(ang)*deltay))))\n",
    "    #Nodo R\n",
    "    temp_prima[2,6] = (temperaturas[m][2,6]*(1-(2*tao)-((2*tao*(deltax**2))/(deltay**2))-((2*tao*deltax)/(np.cos(ang)*deltay)))) + ((2*tao)*(temperaturas[m][2,5]+(temperaturas[m][3,6]*((deltax**2)/(deltay**2)))+((temperaturas[m][2,10]*deltax)/(np.cos(ang)*deltay))))                      \n",
    "    #Nodo R'\n",
    "    temp_prima[2,10] = (temperaturas[m][2,10]*(1-(2*tao)-((2*tao*(deltax**2))/(deltay**2))-((2*tao*deltax)/(np.cos(ang)*deltay)))) + ((2*tao)*(temperaturas[m][2,11]+(temperaturas[m][3,10]*((deltax**2)/(deltay**2)))+((temperaturas[m][2,6]*deltax)/(np.cos(ang)*deltay))))\n",
    "    #Nodo Z\n",
    "    temp_prima[3,7] = (temperaturas[m][3,7]*(1-(2*tao)-((2*tao*(deltax**2))/(deltay**2))-((2*tao*deltax)/(np.cos(ang)*deltay)))) + ((2*tao)*(temperaturas[m][3,6]+(temperaturas[m][4,7]*((deltax**2)/(deltay**2)))+((temperaturas[m][3,9]*deltax)/(np.cos(ang)*deltay))))\n",
    "    #Nodo Z'\n",
    "    temp_prima[3,9] = (temperaturas[m][3,9]*(1-(2*tao)-((2*tao*(deltax**2))/(deltay**2))-((2*tao*deltax)/(np.cos(ang)*deltay)))) + ((2*tao)*(temperaturas[m][3,10]+(temperaturas[m][4,9]*((deltax**2)/(deltay**2)))+((temperaturas[m][3,7]*deltax)/(np.cos(ang)*deltay))))\n",
    "    #Nodo AA\n",
    "    temp_prima[4,0] = (temperaturas[m][4,0]) + ((2*tao)*((((deltax**2)*(temperaturas[m][3,0]-temperaturas[m][4,0]))/(deltay**2)) + (temperaturas[m][4,1]-temperaturas[m][4,0]) + (((tinf-temperaturas[m][4,0])*h*(deltax**2))/(k*deltay)) + ((((talrd**4)-(temperaturas[m][4,0]**4))*alpha*sigma*(deltax**2))/(k*deltay))))      \n",
    "    #Nodo AA'\n",
    "    temp_prima[4,16] = (temperaturas[m][4,16]*(1-(2*tao)-(2*tao*(deltax**2)/(deltay**2)))) + ((2*tao)*(((temperaturas[m][3,16]*(deltax**2))/(deltay**2))+(temperaturas[m][4,15]))) \n",
    "    #Nodo AB,AC,AD,AE,AF,AG,AH\n",
    "    for i in range(0,7):\n",
    "        temp_prima[4,i+1] = (temperaturas[m][4,i+1]) + (tao*((((deltax**2)*2*(temperaturas[m][3,i+1]-temperaturas[m][4,i+1]))/(deltay**2)) + (temperaturas[m][4,i]-temperaturas[m][4,i+1]) + (temperaturas[m][4,i+2]-temperaturas[m][4,i+1]) + (((tinf-temperaturas[m][4,i+1])*2*h*(deltax**2))/(k*deltay)) + ((((talrd**4)-(temperaturas[m][4,i+1]**4))*2*alpha*sigma*(deltax**2))/(k*deltay))))\n",
    "    #Nodos AB',AC',AD',AE',AF',AG',AH'\n",
    "    for i in range(0,7):\n",
    "        temp_prima[4,(i+9)] = (temperaturas[m][4,(i+9)]*(1-(2*tao)-(2*tao*(deltax**2)/(deltay**2)))) + ((tao)*((temperaturas[m][4,(i+10)])+((2*temperaturas[m][3,(i+9)]*deltax**2)/(deltay**2))+(temperaturas[m][4,(i+8)])))\n",
    "    ##temp_prima[4,15] = (temperaturas[m][4,15]*(1-(2*tao)-(2*tao*(deltax**2)/(deltay**2)))) + ((tao)*((temperaturas[m][4,16])+((2*temperaturas[m][3,15]*deltax**2)/(deltay**2))+(temperaturas[m][4,14])))\n",
    "    #Nodo AI\n",
    "    temp_prima[4,8] = (temperaturas[m][4,8]) + ((4*tao)*((temperaturas[m][4,7]-temperaturas[m][4,8]) + ((tinf-temperaturas[m][4,8])*h*(deltax**2))/(k*deltay)) + ((((talrd**4)-(temperaturas[m][4,8]**4))*alpha*sigma*(deltax**2))/(k*deltay))+(((temperaturas[m][4,9]-temperaturas[m][4,8])*deltax)/(2*deltay*(np.cos(ang)))))\n",
    "\n",
    "    temperaturas.insert((m+1),temp_prima)\n",
    "\n",
    "temp_menor = []\n",
    "for i in range(0,Iteraciones):\n",
    "    temp_menor.insert(i,temperaturas[i][4,16])\n",
    "    \n",
    "temp_mayor = []\n",
    "for i in range(0,Iteraciones):\n",
    "    temp_mayor.insert(i,temperaturas[i][0,0])\n",
    "    \n",
    "tiempos = []\n",
    "for i in range(0,Iteraciones):\n",
    "    tiempos.insert(i,(i*deltat))\n",
    "\n",
    "    \n",
    "datos = {'T mayor': temp_mayor,'T menor':temp_menor}\n",
    "df= pd.DataFrame(datos)\n",
    "plt.figure()\n",
    "plt.plot(tiempos,df)\n",
    "plt.legend(datos, loc='best')\n",
    "plt.title(\"Gráfico de temperaturas vs Tiempo\")\n",
    "plt.xlabel('t [s]')\n",
    "plt.ylabel('Temperatura [K]')\n",
    "\n",
    "\n"
   ]
  },
  {
   "cell_type": "code",
   "execution_count": null,
   "id": "8b1983e2",
   "metadata": {},
   "outputs": [],
   "source": []
  }
 ],
 "metadata": {
  "kernelspec": {
   "display_name": "Python 3.9.12 ('base')",
   "language": "python",
   "name": "python3"
  },
  "language_info": {
   "codemirror_mode": {
    "name": "ipython",
    "version": 3
   },
   "file_extension": ".py",
   "mimetype": "text/x-python",
   "name": "python",
   "nbconvert_exporter": "python",
   "pygments_lexer": "ipython3",
   "version": "3.9.12"
  },
  "vscode": {
   "interpreter": {
    "hash": "a8e1702f5d5b5268ae13b81a02cbadccecc37d96c57814c7fc8c26e59953e814"
   }
  }
 },
 "nbformat": 4,
 "nbformat_minor": 5
}
